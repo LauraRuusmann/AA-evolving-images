{
 "cells": [
  {
   "cell_type": "code",
   "execution_count": 3,
   "metadata": {
    "collapsed": true
   },
   "outputs": [],
   "source": [
    "import PIL as pil\n",
    "import numpy as np\n",
    "import matplotlib.pyplot as plt\n",
    "import glob\n",
    "import scipy.misc\n",
    "import scipy.spatial\n",
    "import scipy.signal \n",
    "import emcee\n",
    "import os\n",
    "import numpy as np\n"
   ]
  },
  {
   "cell_type": "code",
   "execution_count": 3,
   "metadata": {
    "collapsed": true
   },
   "outputs": [],
   "source": [
    "def voronoi(step):\n",
    "    print (step)"
   ]
  },
  {
   "cell_type": "code",
   "execution_count": 7,
   "metadata": {},
   "outputs": [],
   "source": [
    "def initialize():\n",
    "    monalisa = \"mona_lisa.jpg\"\n",
    "    print (monalisa)\n",
    "    point = 100\n",
    "    output = '%s/%s_%i' % ('output', os.path.splitext(os.path.basename(monalisa))[0],point)\n",
    "#     lock = outroot + '.lock'\n",
    "    start_voronoi(monalisa, output,point)\n",
    "    "
   ]
  },
  {
   "cell_type": "code",
   "execution_count": 18,
   "metadata": {},
   "outputs": [],
   "source": [
    "def start_voronoi(monalisa, output, point):\n",
    "    points = 1\n",
    "    image = scipy.misc.imread(monalisa)\n",
    "    #image colors\n",
    "    image_r = image[:,:,0]\n",
    "    image_g = image[:,:,1]\n",
    "    image_b = image[:,:,2]\n",
    "    \n",
    "    image_r = image_r[::points, ::points]\n",
    "    image_g = image_g[::points, ::points]\n",
    "    image_b = image_b[::points, ::points]\n",
    "    \n",
    "    #generate mask of image\n",
    "    total = np.max((image_r, image_g, image_b), axis=0)\n",
    "#     diff = np.abs(convgauss(total, 2) - convgauss(total, 32))\n",
    "    image1 = convgauss(total, 2)\n",
    "    image2 = convgauss(total, 32)\n",
    "    diff = np.abs(image1 - image2)\n",
    "    diff = diff/diff.max()\n",
    "    mask = (diff*255).astype(np.int)\n",
    "    scipy.misc.imsave(output + '_unsharp.png', mask)\n",
    "    plt.imshow(mask, interpolation='nearest')\n",
    "    plt.show()\n",
    "    \n",
    "    #generate random points based on masked image\n",
    "    xpoints = []\n",
    "    ypoints = []\n",
    "   "
   ]
  },
  {
   "cell_type": "code",
   "execution_count": 20,
   "metadata": {
    "collapsed": true
   },
   "outputs": [],
   "source": [
    "def convgauss(image, val):\n",
    "    size = 3*val\n",
    "    kernel =  np.fromfunction(\n",
    "        lambda y, x: np.exp( -((x-size/2)**2+(y-size/2)**2)/2./val ),\n",
    "    (size, size))\n",
    "    kernel = kernel/kernel.sum()\n",
    "    return scipy.signal.convolve2d(image.astype(np.float64), kernel, mode='same')"
   ]
  },
  {
   "cell_type": "code",
   "execution_count": null,
   "metadata": {},
   "outputs": [],
   "source": [
    "if __name__ == '__main__':\n",
    "    initialize()"
   ]
  },
  {
   "cell_type": "code",
   "execution_count": null,
   "metadata": {
    "collapsed": true
   },
   "outputs": [],
   "source": []
  }
 ],
 "metadata": {
  "kernelspec": {
   "display_name": "Python 3",
   "language": "python",
   "name": "python3"
  },
  "language_info": {
   "codemirror_mode": {
    "name": "ipython",
    "version": 3
   },
   "file_extension": ".py",
   "mimetype": "text/x-python",
   "name": "python",
   "nbconvert_exporter": "python",
   "pygments_lexer": "ipython3",
   "version": "3.5.4"
  }
 },
 "nbformat": 4,
 "nbformat_minor": 2
}
